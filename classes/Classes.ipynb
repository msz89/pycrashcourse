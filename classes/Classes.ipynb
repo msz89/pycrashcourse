{
 "cells": [
  {
   "cell_type": "markdown",
   "metadata": {},
   "source": [
    "# Python Classes"
   ]
  },
  {
   "cell_type": "code",
   "execution_count": 2,
   "metadata": {},
   "outputs": [],
   "source": [
    "# Uncomment to see how helper module works\n",
    "# from employee import Employee"
   ]
  },
  {
   "cell_type": "code",
   "execution_count": 3,
   "metadata": {},
   "outputs": [],
   "source": [
    "class Employee:\n",
    "    \"\"\"\n",
    "    This class is a demo of how to setup a class.\n",
    "    Each object represents an employee of the company.\n",
    "    \n",
    "    name: Name of employee\n",
    "    address: Address of employee\n",
    "    role: Role / function of employee in company\n",
    "    manager: Reporting manager of employee\n",
    "    \n",
    "    set_<attribute>: sets the chosen attributes value\n",
    "    get_<attribute>: returns the attributes value\n",
    "    print_attr: prints all attributes of the object\n",
    "    \"\"\"\n",
    "    # Class Variable - shared by all instances\n",
    "    kind = 'employee' \n",
    "    \n",
    "    def __init__(self, name='Default'):\n",
    "        # Instance Variables - unique to each instance\n",
    "        self.name = name\n",
    "        self.address = 'Default'\n",
    "        self.role = 'Default'\n",
    "        self.manager = 'Default'\n",
    "        # ID?\n",
    "        \n",
    "    def print_attr(self):\n",
    "        # A custom print statement\n",
    "        print('name:', self.name)\n",
    "        print('address:', self.address)\n",
    "        print('role:', self.role)\n",
    "        print('manager:', self.manager)\n",
    "#         print('id:', self.id)\n",
    "        \n",
    "    def set_name(self, name):\n",
    "        self.name = name    \n",
    "    \n",
    "    def get_name(self):\n",
    "        return self.name  \n",
    "    \n",
    "    def set_address(self, address):\n",
    "        self.address = address\n",
    "        \n",
    "    def get_address(self):\n",
    "        return self.address\n",
    "    \n",
    "    def set_role(self, role):\n",
    "        self.role = role\n",
    "        \n",
    "    def get_role(self):\n",
    "        return self.role\n",
    "\n",
    "    def set_manager(self, manager):\n",
    "        self.manager = manager\n",
    "    \n",
    "    def get_manager(self):\n",
    "        return self.manager\n",
    "        "
   ]
  },
  {
   "cell_type": "code",
   "execution_count": 10,
   "metadata": {},
   "outputs": [
    {
     "name": "stdout",
     "output_type": "stream",
     "text": [
      "name: Bruce\n",
      "address: Default\n",
      "role: Default\n",
      "manager: Default\n"
     ]
    }
   ],
   "source": [
    "# Name is set to Bruce\n",
    "emp = Employee('Bruce')\n",
    "emp2 = Employee('Bruce')\n",
    "\n",
    "emp.print_attr()\n"
   ]
  },
  {
   "cell_type": "code",
   "execution_count": null,
   "metadata": {},
   "outputs": [],
   "source": [
    "# Print DocString\n",
    "print(emp.__doc__)"
   ]
  },
  {
   "cell_type": "code",
   "execution_count": null,
   "metadata": {},
   "outputs": [],
   "source": [
    "emp.set_name('Sally')\n",
    "emp.print_attr()\n",
    "emp2.print_attr()"
   ]
  },
  {
   "cell_type": "code",
   "execution_count": 14,
   "metadata": {},
   "outputs": [
    {
     "data": {
      "text/plain": [
       "'jim'"
      ]
     },
     "execution_count": 14,
     "metadata": {},
     "output_type": "execute_result"
    }
   ],
   "source": [
    "emp.name = \"jim\"\n",
    "emp.name"
   ]
  },
  {
   "cell_type": "code",
   "execution_count": 15,
   "metadata": {},
   "outputs": [
    {
     "name": "stdout",
     "output_type": "stream",
     "text": [
      "name: jim\n",
      "address: 1 Smith St Newcastle 2300\n",
      "role: Default\n",
      "manager: Default\n"
     ]
    }
   ],
   "source": [
    "emp.set_address('1 Smith St Newcastle 2300')\n",
    "emp.print_attr()"
   ]
  },
  {
   "cell_type": "code",
   "execution_count": 16,
   "metadata": {},
   "outputs": [
    {
     "name": "stdout",
     "output_type": "stream",
     "text": [
      "name: jim\n",
      "address: 1 Smith St Newcastle 2300\n",
      "role: Analyst\n",
      "manager: Default\n"
     ]
    }
   ],
   "source": [
    "emp.set_role('Analyst')\n",
    "emp.print_attr()"
   ]
  },
  {
   "cell_type": "code",
   "execution_count": 17,
   "metadata": {},
   "outputs": [
    {
     "name": "stdout",
     "output_type": "stream",
     "text": [
      "name: jim\n",
      "address: 1 Smith St Newcastle 2300\n",
      "role: Analyst\n",
      "manager: Charlie\n"
     ]
    }
   ],
   "source": [
    "emp.set_manager('Charlie')\n",
    "emp.print_attr()"
   ]
  },
  {
   "cell_type": "code",
   "execution_count": 18,
   "metadata": {},
   "outputs": [
    {
     "data": {
      "text/plain": [
       "'jim'"
      ]
     },
     "execution_count": 18,
     "metadata": {},
     "output_type": "execute_result"
    }
   ],
   "source": [
    "emp.get_name()"
   ]
  },
  {
   "cell_type": "code",
   "execution_count": 19,
   "metadata": {},
   "outputs": [
    {
     "data": {
      "text/plain": [
       "'1 Smith St Newcastle 2300'"
      ]
     },
     "execution_count": 19,
     "metadata": {},
     "output_type": "execute_result"
    }
   ],
   "source": [
    "emp.get_address()"
   ]
  },
  {
   "cell_type": "code",
   "execution_count": 20,
   "metadata": {},
   "outputs": [
    {
     "data": {
      "text/plain": [
       "'Analyst'"
      ]
     },
     "execution_count": 20,
     "metadata": {},
     "output_type": "execute_result"
    }
   ],
   "source": [
    "emp.get_role()"
   ]
  },
  {
   "cell_type": "code",
   "execution_count": 22,
   "metadata": {},
   "outputs": [
    {
     "data": {
      "text/plain": [
       "'Charlie'"
      ]
     },
     "execution_count": 22,
     "metadata": {},
     "output_type": "execute_result"
    }
   ],
   "source": [
    "emp.get_manager()\n",
    "emp.manager"
   ]
  },
  {
   "cell_type": "markdown",
   "metadata": {},
   "source": [
    "# An example"
   ]
  },
  {
   "cell_type": "code",
   "execution_count": null,
   "metadata": {},
   "outputs": [],
   "source": [
    "names = ['Bruce', 'Charlie', 'Sally', 'Bianca', 'Alexis']\n",
    "employees = []\n",
    "i = 0\n",
    "\n",
    "for n in names:\n",
    "    emp_obj = Employee(n)\n",
    "    print('{}. {}\\n'.format(i, emp_obj.get_name()))\n",
    "    employees.append(emp_obj)\n",
    "    i += 1\n",
    "    \n",
    "employees"
   ]
  },
  {
   "cell_type": "code",
   "execution_count": null,
   "metadata": {},
   "outputs": [],
   "source": [
    "# Change me to select an employee object\n",
    "i = 1\n",
    "employees[i].print_attr()"
   ]
  },
  {
   "cell_type": "markdown",
   "metadata": {},
   "source": [
    "# Another Example\n",
    "\n",
    "Commonwealth Bank wants to use our Employee class to keep track of its employees, but it need to customise the class for it to make sense for its use case.  \n",
    "  \n",
    "They need to add keycard id to the employee object. We could added it directly to our Employee class, but other employers may not need this in their system.  \n",
    "  \n",
    "Instead lets use inheritance to take advantage of our existing code.  \n",
    "\n"
   ]
  },
  {
   "cell_type": "code",
   "execution_count": null,
   "metadata": {},
   "outputs": [],
   "source": [
    "class CommBank(Employee):\n",
    "    # Method overriding of __init__ method\n",
    "    def __init__(self, name):\n",
    "        super().__init__(name)\n",
    "        self.keycard_id = 'X1000' # default\n",
    "\n",
    "    def print_all(self):\n",
    "        # Extending old method\n",
    "        super().print_attr()\n",
    "        print('keycard_id:', self.keycard_id)"
   ]
  },
  {
   "cell_type": "code",
   "execution_count": null,
   "metadata": {},
   "outputs": [],
   "source": [
    "emp_commbank = CommBank('Julian')\n",
    "\n",
    "emp_commbank.set_address('31 Cherry St Newtown')\n",
    "\n",
    "print('Using old print_attr:\\n-----------------------')\n",
    "emp_commbank.print_attr()\n",
    "print('\\nUsing new print_all:\\n-----------------------')\n",
    "emp_commbank.print_all()"
   ]
  }
 ],
 "metadata": {
  "kernelspec": {
   "display_name": "Python 3",
   "language": "python",
   "name": "python3"
  },
  "language_info": {
   "codemirror_mode": {
    "name": "ipython",
    "version": 3
   },
   "file_extension": ".py",
   "mimetype": "text/x-python",
   "name": "python",
   "nbconvert_exporter": "python",
   "pygments_lexer": "ipython3",
   "version": "3.6.5"
  }
 },
 "nbformat": 4,
 "nbformat_minor": 2
}
