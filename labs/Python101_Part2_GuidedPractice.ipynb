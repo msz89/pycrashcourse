{
 "cells": [
  {
   "cell_type": "markdown",
   "metadata": {},
   "source": [
    "# Python Programming 101 - Guided Practice"
   ]
  },
  {
   "cell_type": "markdown",
   "metadata": {},
   "source": [
    "Dr J Rogel-Salazar\n",
    "\n",
    "[j.rogel.datascience@gmail.com](mailto:j.rogel.datascience@gmail.com)"
   ]
  },
  {
   "cell_type": "markdown",
   "metadata": {},
   "source": [
    "Imagine that after you are working as a sales analyst for a brand with presence in the US.\n",
    "\n",
    "You are asked to look at regional sales data from your vendors and you want to use your newly acquired Python skills...\n",
    "\n",
    "For this guided practice we will create some fake data related to the average income and population of some cities in the US. \n",
    "\n",
    "We will apply the python knowledge we have acquired and see how some popular modules such as pandas, numpy and matplotlib are used."
   ]
  },
  {
   "cell_type": "markdown",
   "metadata": {},
   "source": [
    "We can use the Jupyter interface to invoke functionality from the terminal.\n",
    "\n",
    "For example, we can list the files under the current directory as follows:"
   ]
  },
  {
   "cell_type": "code",
   "execution_count": 1,
   "metadata": {},
   "outputs": [
    {
     "name": "stdout",
     "output_type": "stream",
     "text": [
      " filename.csv\r\n",
      "'fun with markdown.ipynb'\r\n",
      " Python101_Part2_GuidedPractice.ipynb\r\n",
      " Python101_Part2_IndPractice.ipynb\r\n",
      " Python101_Part2_IndPractice_Solutions.ipynb\r\n",
      " SQL\r\n"
     ]
    }
   ],
   "source": [
    "!ls"
   ]
  },
  {
   "cell_type": "markdown",
   "metadata": {},
   "source": [
    "# Importing packages and modules\n",
    "\n",
    "Let us start by importing packages and modules that will be used in this practice.\n",
    "\n",
    "We will make use of a functions to calculate the average. This is included in the NumPy module.\n",
    "\n",
    "Also we will use pandas to manipulate data organised in a table format. We call this a *dataframe*."
   ]
  },
  {
   "cell_type": "code",
   "execution_count": 2,
   "metadata": {},
   "outputs": [],
   "source": [
    "import numpy as np\n",
    "import pandas as pd"
   ]
  },
  {
   "cell_type": "markdown",
   "metadata": {},
   "source": [
    "Let us define some lists that can be used to create a pandas dataframe. Let us start by listing the different cities we are interested in:\n"
   ]
  },
  {
   "cell_type": "code",
   "execution_count": 3,
   "metadata": {},
   "outputs": [
    {
     "data": {
      "text/plain": [
       "pandas.core.series.Series"
      ]
     },
     "execution_count": 3,
     "metadata": {},
     "output_type": "execute_result"
    }
   ],
   "source": [
    "cities  = pd.Series(['Atlanta','Lilburn','Athens',\n",
    "                     'Auburn','Augusta','NYC','Buffalo','Albany',\n",
    "                     'Miami','Tallahassee'])\n",
    "type(cities)"
   ]
  },
  {
   "cell_type": "markdown",
   "metadata": {},
   "source": [
    "Now the states where these cities are:"
   ]
  },
  {
   "cell_type": "code",
   "execution_count": 4,
   "metadata": {},
   "outputs": [],
   "source": [
    "states = pd.Series(['GA','GA','GA','GA','GA',\n",
    "                    \"NY\",\"NY\",\"NY\",\"FL\",\"FL\"])\n"
   ]
  },
  {
   "cell_type": "markdown",
   "metadata": {},
   "source": [
    "Let us now list the average income and population for the cities in question:"
   ]
  },
  {
   "cell_type": "code",
   "execution_count": 5,
   "metadata": {},
   "outputs": [],
   "source": [
    "city_avg_incomes = pd.Series([55000,40000,50000,45000,\n",
    "                              30000,60000,57000,56000,65000,40000])\n",
    "\n",
    "city_populations = pd.Series([5000000,250000,100000,\n",
    "                              50000, 200000,6000000,3000000,400000,\n",
    "                              4000000,5000000])"
   ]
  },
  {
   "cell_type": "markdown",
   "metadata": {},
   "source": [
    "### Question\n",
    "\n",
    "Have you noticed that we are using lists to create the series expected by pandas?"
   ]
  },
  {
   "cell_type": "markdown",
   "metadata": {},
   "source": [
    "# Pandas dataframe"
   ]
  },
  {
   "cell_type": "markdown",
   "metadata": {},
   "source": [
    "We are now ready to put all the information above in a single dataframe:\n"
   ]
  },
  {
   "cell_type": "code",
   "execution_count": 6,
   "metadata": {},
   "outputs": [],
   "source": [
    "city_table = pd.DataFrame( {'cities': cities,  \n",
    "             'states': states,\n",
    "             'city_avg_incomes':city_avg_incomes,\n",
    "             'city_populations':city_populations\n",
    "              } )\n"
   ]
  },
  {
   "cell_type": "markdown",
   "metadata": {},
   "source": [
    "### Question\n",
    "\n",
    "Do you remember what is the syntax to define a dictionary in Python?"
   ]
  },
  {
   "cell_type": "markdown",
   "metadata": {},
   "source": [
    "# Looking at the Dataframe"
   ]
  },
  {
   "cell_type": "markdown",
   "metadata": {},
   "source": [
    "Let us take a look at the first 6 entries:"
   ]
  },
  {
   "cell_type": "code",
   "execution_count": 7,
   "metadata": {},
   "outputs": [
    {
     "data": {
      "text/html": [
       "<div>\n",
       "<style scoped>\n",
       "    .dataframe tbody tr th:only-of-type {\n",
       "        vertical-align: middle;\n",
       "    }\n",
       "\n",
       "    .dataframe tbody tr th {\n",
       "        vertical-align: top;\n",
       "    }\n",
       "\n",
       "    .dataframe thead th {\n",
       "        text-align: right;\n",
       "    }\n",
       "</style>\n",
       "<table border=\"1\" class=\"dataframe\">\n",
       "  <thead>\n",
       "    <tr style=\"text-align: right;\">\n",
       "      <th></th>\n",
       "      <th>cities</th>\n",
       "      <th>states</th>\n",
       "      <th>city_avg_incomes</th>\n",
       "      <th>city_populations</th>\n",
       "    </tr>\n",
       "  </thead>\n",
       "  <tbody>\n",
       "    <tr>\n",
       "      <th>0</th>\n",
       "      <td>Atlanta</td>\n",
       "      <td>GA</td>\n",
       "      <td>55000</td>\n",
       "      <td>5000000</td>\n",
       "    </tr>\n",
       "    <tr>\n",
       "      <th>1</th>\n",
       "      <td>Lilburn</td>\n",
       "      <td>GA</td>\n",
       "      <td>40000</td>\n",
       "      <td>250000</td>\n",
       "    </tr>\n",
       "    <tr>\n",
       "      <th>2</th>\n",
       "      <td>Athens</td>\n",
       "      <td>GA</td>\n",
       "      <td>50000</td>\n",
       "      <td>100000</td>\n",
       "    </tr>\n",
       "  </tbody>\n",
       "</table>\n",
       "</div>"
      ],
      "text/plain": [
       "    cities states  city_avg_incomes  city_populations\n",
       "0  Atlanta     GA             55000           5000000\n",
       "1  Lilburn     GA             40000            250000\n",
       "2   Athens     GA             50000            100000"
      ]
     },
     "execution_count": 7,
     "metadata": {},
     "output_type": "execute_result"
    }
   ],
   "source": [
    "city_table.head(3)"
   ]
  },
  {
   "cell_type": "markdown",
   "metadata": {},
   "source": [
    "# Manipulating the data "
   ]
  },
  {
   "cell_type": "markdown",
   "metadata": {},
   "source": [
    "We can create a column to state the population in millions and another one for the income in thousands. \n",
    "\n",
    "Let us define a function that formats a number in terms of millions\n",
    "\n",
    "### Question\n",
    "\n",
    "Do you remember how to define a function in Python?"
   ]
  },
  {
   "cell_type": "code",
   "execution_count": 8,
   "metadata": {},
   "outputs": [],
   "source": [
    "def FormatMillions(x):\n",
    "    return float(x)/1000000.0"
   ]
  },
  {
   "cell_type": "markdown",
   "metadata": {},
   "source": [
    "We can now \"apply\" this function to one of the columns of our dataframe to create a new column:"
   ]
  },
  {
   "cell_type": "code",
   "execution_count": 9,
   "metadata": {},
   "outputs": [
    {
     "data": {
      "text/plain": [
       "0    5.00\n",
       "1    0.25\n",
       "2    0.10\n",
       "3    0.05\n",
       "4    0.20\n",
       "5    6.00\n",
       "6    3.00\n",
       "7    0.40\n",
       "8    4.00\n",
       "9    5.00\n",
       "Name: city_populations, dtype: float64"
      ]
     },
     "execution_count": 9,
     "metadata": {},
     "output_type": "execute_result"
    }
   ],
   "source": [
    "city_table['city_populations'].apply(FormatMillions)"
   ]
  },
  {
   "cell_type": "code",
   "execution_count": 10,
   "metadata": {},
   "outputs": [
    {
     "data": {
      "text/html": [
       "<div>\n",
       "<style scoped>\n",
       "    .dataframe tbody tr th:only-of-type {\n",
       "        vertical-align: middle;\n",
       "    }\n",
       "\n",
       "    .dataframe tbody tr th {\n",
       "        vertical-align: top;\n",
       "    }\n",
       "\n",
       "    .dataframe thead th {\n",
       "        text-align: right;\n",
       "    }\n",
       "</style>\n",
       "<table border=\"1\" class=\"dataframe\">\n",
       "  <thead>\n",
       "    <tr style=\"text-align: right;\">\n",
       "      <th></th>\n",
       "      <th>cities</th>\n",
       "      <th>states</th>\n",
       "      <th>city_avg_incomes</th>\n",
       "      <th>city_populations</th>\n",
       "      <th>pop_in_millions</th>\n",
       "    </tr>\n",
       "  </thead>\n",
       "  <tbody>\n",
       "    <tr>\n",
       "      <th>0</th>\n",
       "      <td>Atlanta</td>\n",
       "      <td>GA</td>\n",
       "      <td>55000</td>\n",
       "      <td>5000000</td>\n",
       "      <td>5.00</td>\n",
       "    </tr>\n",
       "    <tr>\n",
       "      <th>1</th>\n",
       "      <td>Lilburn</td>\n",
       "      <td>GA</td>\n",
       "      <td>40000</td>\n",
       "      <td>250000</td>\n",
       "      <td>0.25</td>\n",
       "    </tr>\n",
       "    <tr>\n",
       "      <th>2</th>\n",
       "      <td>Athens</td>\n",
       "      <td>GA</td>\n",
       "      <td>50000</td>\n",
       "      <td>100000</td>\n",
       "      <td>0.10</td>\n",
       "    </tr>\n",
       "    <tr>\n",
       "      <th>3</th>\n",
       "      <td>Auburn</td>\n",
       "      <td>GA</td>\n",
       "      <td>45000</td>\n",
       "      <td>50000</td>\n",
       "      <td>0.05</td>\n",
       "    </tr>\n",
       "    <tr>\n",
       "      <th>4</th>\n",
       "      <td>Augusta</td>\n",
       "      <td>GA</td>\n",
       "      <td>30000</td>\n",
       "      <td>200000</td>\n",
       "      <td>0.20</td>\n",
       "    </tr>\n",
       "    <tr>\n",
       "      <th>5</th>\n",
       "      <td>NYC</td>\n",
       "      <td>NY</td>\n",
       "      <td>60000</td>\n",
       "      <td>6000000</td>\n",
       "      <td>6.00</td>\n",
       "    </tr>\n",
       "    <tr>\n",
       "      <th>6</th>\n",
       "      <td>Buffalo</td>\n",
       "      <td>NY</td>\n",
       "      <td>57000</td>\n",
       "      <td>3000000</td>\n",
       "      <td>3.00</td>\n",
       "    </tr>\n",
       "    <tr>\n",
       "      <th>7</th>\n",
       "      <td>Albany</td>\n",
       "      <td>NY</td>\n",
       "      <td>56000</td>\n",
       "      <td>400000</td>\n",
       "      <td>0.40</td>\n",
       "    </tr>\n",
       "    <tr>\n",
       "      <th>8</th>\n",
       "      <td>Miami</td>\n",
       "      <td>FL</td>\n",
       "      <td>65000</td>\n",
       "      <td>4000000</td>\n",
       "      <td>4.00</td>\n",
       "    </tr>\n",
       "    <tr>\n",
       "      <th>9</th>\n",
       "      <td>Tallahassee</td>\n",
       "      <td>FL</td>\n",
       "      <td>40000</td>\n",
       "      <td>5000000</td>\n",
       "      <td>5.00</td>\n",
       "    </tr>\n",
       "  </tbody>\n",
       "</table>\n",
       "</div>"
      ],
      "text/plain": [
       "        cities states  city_avg_incomes  city_populations  pop_in_millions\n",
       "0      Atlanta     GA             55000           5000000             5.00\n",
       "1      Lilburn     GA             40000            250000             0.25\n",
       "2       Athens     GA             50000            100000             0.10\n",
       "3       Auburn     GA             45000             50000             0.05\n",
       "4      Augusta     GA             30000            200000             0.20\n",
       "5          NYC     NY             60000           6000000             6.00\n",
       "6      Buffalo     NY             57000           3000000             3.00\n",
       "7       Albany     NY             56000            400000             0.40\n",
       "8        Miami     FL             65000           4000000             4.00\n",
       "9  Tallahassee     FL             40000           5000000             5.00"
      ]
     },
     "execution_count": 10,
     "metadata": {},
     "output_type": "execute_result"
    }
   ],
   "source": [
    "city_table['pop_in_millions'] = city_table['city_populations'].apply(FormatMillions)\n",
    "city_table"
   ]
  },
  {
   "cell_type": "markdown",
   "metadata": {},
   "source": [
    "Let us do something similar for the incomes, but format the numbers in terms of thousands. "
   ]
  },
  {
   "cell_type": "code",
   "execution_count": 11,
   "metadata": {},
   "outputs": [],
   "source": [
    "def FormatThousands(x):\n",
    "    return float(x)/1000.0"
   ]
  },
  {
   "cell_type": "code",
   "execution_count": 12,
   "metadata": {},
   "outputs": [],
   "source": [
    "city_table['income_in_k'] =city_table['city_avg_incomes'].apply(FormatThousands)"
   ]
  },
  {
   "cell_type": "markdown",
   "metadata": {},
   "source": [
    "Let us see the result:"
   ]
  },
  {
   "cell_type": "code",
   "execution_count": 16,
   "metadata": {},
   "outputs": [
    {
     "data": {
      "text/plain": [
       "pandas.core.frame.DataFrame"
      ]
     },
     "execution_count": 16,
     "metadata": {},
     "output_type": "execute_result"
    }
   ],
   "source": [
    "city_table.head()\n",
    "type(city_table)\n"
   ]
  },
  {
   "cell_type": "markdown",
   "metadata": {},
   "source": [
    "### Question\n",
    "\n",
    "Why do you think are the functions above useful for?"
   ]
  },
  {
   "cell_type": "code",
   "execution_count": 14,
   "metadata": {},
   "outputs": [
    {
     "ename": "SyntaxError",
     "evalue": "invalid syntax (<ipython-input-14-62bfe72aadff>, line 1)",
     "output_type": "error",
     "traceback": [
      "\u001b[0;36m  File \u001b[0;32m\"<ipython-input-14-62bfe72aadff>\"\u001b[0;36m, line \u001b[0;32m1\u001b[0m\n\u001b[0;31m    Why do you think are the functions above useful for\u001b[0m\n\u001b[0m         ^\u001b[0m\n\u001b[0;31mSyntaxError\u001b[0m\u001b[0;31m:\u001b[0m invalid syntax\n"
     ]
    }
   ],
   "source": [
    "Why do you think are the functions above useful for"
   ]
  },
  {
   "cell_type": "markdown",
   "metadata": {},
   "source": [
    "# Data undestanding"
   ]
  },
  {
   "cell_type": "markdown",
   "metadata": {},
   "source": [
    "How many columns and rows do we have in the dataframe?"
   ]
  },
  {
   "cell_type": "code",
   "execution_count": null,
   "metadata": {},
   "outputs": [],
   "source": [
    "city_table.shape"
   ]
  },
  {
   "cell_type": "markdown",
   "metadata": {},
   "source": [
    "We have 10 records (rows) and 6 fields (columns)"
   ]
  },
  {
   "cell_type": "markdown",
   "metadata": {},
   "source": [
    "Let us select some of the data points. For instance the first 4 entreos for population and income."
   ]
  },
  {
   "cell_type": "code",
   "execution_count": null,
   "metadata": {},
   "outputs": [],
   "source": [
    "city_table[0:4][[\"pop_in_millions\",'income_in_k']]"
   ]
  },
  {
   "cell_type": "markdown",
   "metadata": {},
   "source": [
    "We can select some data based on conditionals. For instance let us show only those records where the income is greater than 30l.§"
   ]
  },
  {
   "cell_type": "code",
   "execution_count": null,
   "metadata": {},
   "outputs": [],
   "source": [
    "city_table[(city_table['income_in_k']>=30)]"
   ]
  },
  {
   "cell_type": "markdown",
   "metadata": {},
   "source": [
    "As we can see, only Augusta meets the condition."
   ]
  },
  {
   "cell_type": "markdown",
   "metadata": {},
   "source": [
    "We can order the data. Let us order the dataframe in descending order by the population in millions."
   ]
  },
  {
   "cell_type": "code",
   "execution_count": null,
   "metadata": {},
   "outputs": [],
   "source": [
    "city_table.sort_values('pop_in_millions')"
   ]
  },
  {
   "cell_type": "markdown",
   "metadata": {},
   "source": [
    "Finally, let us get a description of each of the numeric fields in the dataframe. We will be able to see the following statistics:\n",
    "\n",
    "- count of records\n",
    "- mean\n",
    "- standard deviation\n",
    "- minimum and maximum values\n",
    "- percentiles"
   ]
  },
  {
   "cell_type": "code",
   "execution_count": null,
   "metadata": {},
   "outputs": [],
   "source": [
    "city_table.describe()"
   ]
  },
  {
   "cell_type": "markdown",
   "metadata": {},
   "source": [
    "# Visualising data\n",
    "\n",
    "### Question\n",
    "\n",
    "Why do you think this is important for?"
   ]
  },
  {
   "cell_type": "markdown",
   "metadata": {},
   "source": [
    "We can display the plots in the notebook with the following command:\n",
    "    "
   ]
  },
  {
   "cell_type": "code",
   "execution_count": null,
   "metadata": {},
   "outputs": [],
   "source": [
    "%pylab inline"
   ]
  },
  {
   "cell_type": "markdown",
   "metadata": {},
   "source": [
    "### Question\n",
    "\n",
    "From the discussion about Python libraries, what library may be useful here?\n",
    "\n",
    "Let us also import the matplotlib library:"
   ]
  },
  {
   "cell_type": "code",
   "execution_count": null,
   "metadata": {},
   "outputs": [],
   "source": [
    "import matplotlib.pyplot as plt"
   ]
  },
  {
   "cell_type": "code",
   "execution_count": null,
   "metadata": {},
   "outputs": [],
   "source": [
    "city_table['pop_in_millions'].plot(kind='box')\n",
    "type(city_table)\n",
    "city_table.to_csv(\"filename.csv\")"
   ]
  }
 ],
 "metadata": {
  "anaconda-cloud": {},
  "kernelspec": {
   "display_name": "Python 3",
   "language": "python",
   "name": "python3"
  },
  "language_info": {
   "codemirror_mode": {
    "name": "ipython",
    "version": 3
   },
   "file_extension": ".py",
   "mimetype": "text/x-python",
   "name": "python",
   "nbconvert_exporter": "python",
   "pygments_lexer": "ipython3",
   "version": "3.6.5"
  }
 },
 "nbformat": 4,
 "nbformat_minor": 1
}
